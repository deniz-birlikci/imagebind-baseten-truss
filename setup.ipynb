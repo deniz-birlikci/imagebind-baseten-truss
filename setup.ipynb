{
 "cells": [
  {
   "cell_type": "markdown",
   "metadata": {},
   "source": [
    "Sign on to Baseten's platform and get the API key."
   ]
  },
  {
   "cell_type": "code",
   "execution_count": null,
   "metadata": {},
   "outputs": [],
   "source": [
    "!pip install --upgrade baseten"
   ]
  },
  {
   "cell_type": "code",
   "execution_count": null,
   "metadata": {},
   "outputs": [],
   "source": [
    "import baseten\n",
    "import truss\n",
    "\n",
    "baseten.login('BASETEN_API_KEY')\n",
    "\n",
    "my_packaged_model = truss.load('imagebind-baseten-truss/imagebind_serializable_truss/')\n",
    "\n",
    "baseten.deploy(\n",
    "    my_packaged_model,\n",
    "    model_name='imageBind',\n",
    "    # publish=True, # Uncomment to skip the draft stage\n",
    ")"
   ]
  },
  {
   "cell_type": "markdown",
   "metadata": {},
   "source": [
    "The console output will include the model_id after it is deployed to Baseten. You can monitor the progress on Baseten's website."
   ]
  },
  {
   "cell_type": "code",
   "execution_count": null,
   "metadata": {},
   "outputs": [],
   "source": [
    "# Retrieve the uploaded model endpoint from baseten\n",
    "model = baseten.deployed_model_version_id('<model_version_id>')"
   ]
  },
  {
   "cell_type": "code",
   "execution_count": null,
   "metadata": {},
   "outputs": [],
   "source": [
    "import base64\n",
    "from PIL import Image\n",
    "from pydub import AudioSegment\n",
    "import io\n",
    "\n",
    "def image_paths_to_base64_strings(image_paths: list[str]) -> list[str]:\n",
    "    \"\"\"\n",
    "    Convert a list of image paths to a list of Base64 encoded strings.\n",
    "\n",
    "    Parameters:\n",
    "    - image_paths (list[str]): List of paths to the images.\n",
    "\n",
    "    Returns:\n",
    "    list[str]: List containing Base64 encoded strings of images.\n",
    "    \"\"\"\n",
    "    image_base64_strings = []\n",
    "    for path in image_paths:\n",
    "        with Image.open(path) as img:\n",
    "            binary_io = io.BytesIO()\n",
    "            img.save(binary_io, format=\"PNG\")  # You can change the format if needed\n",
    "            base64_encoded = base64.b64encode(binary_io.getvalue()).decode('utf-8')\n",
    "            image_base64_strings.append(base64_encoded)\n",
    "    return image_base64_strings\n",
    "\n",
    "def audio_paths_to_base64_strings(audio_paths: list[str]) -> list[str]:\n",
    "    \"\"\"\n",
    "    Convert a list of audio paths to a list of Base64 encoded strings.\n",
    "\n",
    "    Parameters:\n",
    "    - audio_paths (list[str]): List of paths to the audio files.\n",
    "\n",
    "    Returns:\n",
    "    list[str]: List containing Base64 encoded strings of audio files.\n",
    "    \"\"\"\n",
    "\n",
    "    audio_base64_strings = []\n",
    "    for path in audio_paths:\n",
    "        audio = AudioSegment.from_file(path)\n",
    "        binary_io = io.BytesIO()\n",
    "        audio.export(binary_io, format=\"wav\")  # You can change the format if needed\n",
    "        base64_encoded = base64.b64encode(binary_io.getvalue()).decode('utf-8')\n",
    "        audio_base64_strings.append(base64_encoded)\n",
    "    return audio_base64_strings"
   ]
  },
  {
   "cell_type": "code",
   "execution_count": null,
   "metadata": {},
   "outputs": [],
   "source": [
    "text_list = [\"cat meowing\"]\n",
    "image_paths = [\"testing_data/cat.jpeg\"]\n",
    "audio_paths = [\"testing_data/meow.mp3\"]\n",
    "\n",
    "json_serializable_input = {\n",
    "    \"text\" : text_list,\n",
    "    \"vision\" : image_paths_to_base64_strings(image_paths),\n",
    "    \"audio\" : audio_paths_to_base64_strings(audio_paths)\n",
    "}\n",
    "\n",
    "model.predict(json_serializable_input)"
   ]
  }
 ],
 "metadata": {
  "language_info": {
   "name": "python"
  },
  "orig_nbformat": 4
 },
 "nbformat": 4,
 "nbformat_minor": 2
}
